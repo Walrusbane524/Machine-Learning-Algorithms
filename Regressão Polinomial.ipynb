{
 "cells": [
  {
   "cell_type": "code",
   "execution_count": 5,
   "id": "4151ab2d",
   "metadata": {},
   "outputs": [],
   "source": [
    "import numpy as np"
   ]
  },
  {
   "cell_type": "code",
   "execution_count": 110,
   "id": "8d7f4a7c",
   "metadata": {},
   "outputs": [],
   "source": [
    "def zScoreScale(x, y):\n",
    "    data = np.c_[x,y]\n",
    "    mean = data.mean()\n",
    "    sig = np.sqrt(((data - mean)**2).sum())\n",
    "    scaled_x = np.zeros(x.shape)\n",
    "    \n",
    "    scaled_data = (data - mean)/sig\n",
    "    scaled_y = (scaled_data[:,len(scaled_data[0])-1]).reshape(-1,1)\n",
    "    for i in range(x.shape[1]):\n",
    "        scaled_x[:,i] = scaled_data[:,i]\n",
    "    return scaled_x, scaled_y, mean, sig\n",
    "\n",
    "def zScoreDescale(x, y, mean, sig):\n",
    "    scaled_data = np.c_[x,y]\n",
    "    descaled_data = scaled_data * sig + mean\n",
    "    \n",
    "    descaled_x = np.zeros(x.shape)\n",
    "    descaled_y = (descaled_data[:,len(descaled_data[0])-1]).reshape(-1,1)\n",
    "    for i in range(x.shape[1]):\n",
    "        descaled_x[:,i] = descaled_data[:,i]\n",
    "        \n",
    "    return descaled_x, descaled_y, mean, sig"
   ]
  },
  {
   "cell_type": "code",
   "execution_count": 153,
   "id": "8b9bf4f4",
   "metadata": {},
   "outputs": [],
   "source": [
    "def minMaxScale(x, y):\n",
    "    data = np.c_[x, y]\n",
    "    min_value = np.min(data)\n",
    "    max_value = np.max(data)\n",
    "    normalized_x = (x - min_value)/(max_value - min_value)\n",
    "    normalized_y = (y - min_value)/(max_value - min_value)\n",
    "    \n",
    "    return normalized_x, normalized_y, min_value, max_value\n",
    "\n",
    "def minMaxDescale(normalized_x,normalized_y,min_value,max_value):\n",
    "    \n",
    "    denormalized_x = (normalized_x * (max_value - min_value)) + min_value\n",
    "    denormalized_y = (normalized_y * (max_value - min_value)) + min_value\n",
    "    \n",
    "    return denormalized_x, denormalized_y"
   ]
  },
  {
   "cell_type": "code",
   "execution_count": 161,
   "id": "1a70ab66",
   "metadata": {},
   "outputs": [],
   "source": [
    "def addPolynomialColumns(x, grau = 2):\n",
    "    if grau < 2:\n",
    "        return x\n",
    "    novo_x = x.copy()\n",
    "    for g in range(2 , grau + 1):\n",
    "        for coluna in range(x.shape[1]):\n",
    "            nova_coluna = x[:,coluna] ** g\n",
    "            novo_x = np.c_[novo_x, nova_coluna]\n",
    "    return novo_x"
   ]
  },
  {
   "cell_type": "code",
   "execution_count": 138,
   "id": "3200459b",
   "metadata": {},
   "outputs": [],
   "source": [
    "def GD(x, y, alpha = 0.1, lamb = 0, max_iterations = 10):\n",
    "    \n",
    "    n = len(y)\n",
    "    x = np.c_[np.ones(n), x]\n",
    "    w = np.zeros(x.shape[1]).reshape(-1,1)\n",
    "    yhat = np.zeros(n).reshape(-1,1)\n",
    "    e = np.zeros(n).reshape(-1,1)\n",
    "                 \n",
    "    for t in range(max_iterations):\n",
    "        yhat = x @ w\n",
    "        e = y - yhat\n",
    "        w[0] = w[0] + (alpha/n * e.sum())\n",
    "        for column in range(1, len(w)):\n",
    "            w[column] = w[column] + alpha * ((e * x[:,[column]]).sum()/n - lamb * w[column])\n",
    "                \n",
    "    MSE = ((e ** 2).sum())/(2*n)\n",
    "    return w, MSE\n",
    "    "
   ]
  },
  {
   "cell_type": "code",
   "execution_count": 99,
   "id": "281163b3",
   "metadata": {},
   "outputs": [],
   "source": [
    "def SGD(x, y, alpha = 0.1, lamb = 0, max_iterations = 10):\n",
    "    \n",
    "    n = len(y)\n",
    "    x = np.c_[np.ones(n), x]\n",
    "    w = np.zeros(len(x[0]))\n",
    "    yhat = np.zeros(n)\n",
    "    e = np.zeros(n)\n",
    "    indices = np.arange(n)\n",
    "                 \n",
    "    for t in range(max_iterations):\n",
    "        np.random.shuffle(indices)\n",
    "        for j in indices:\n",
    "            yhat[j] = (x[j] * w).sum()\n",
    "            e[j] = y[j] - yhat[j]\n",
    "            w[0] = w[0] + (alpha * e[j]/n)\n",
    "            for column in range(1, len(w)):\n",
    "                w[column] = w[column] + alpha * ((e[j] * x[j,column]).sum()/n - lamb * w[column])\n",
    "        #print(\"t = \", t)\n",
    "        #print(\"yhat = \", yhat)\n",
    "        #print(\"e = \", e)\n",
    "        #print(\"w = \", w, \"\\n\")\n",
    "        \n",
    "    MSE = ((e ** 2).sum())/(2*n)\n",
    "    return w, MSE"
   ]
  },
  {
   "cell_type": "code",
   "execution_count": 3,
   "id": "ce318550",
   "metadata": {},
   "outputs": [],
   "source": [
    "def OLS(x, y, alpha = 0.1, l2 = 0):\n",
    "    \n",
    "    n = len(y)\n",
    "    x = np.c_[np.ones(n), x]\n",
    "    identity = np.identity(len(x[0]))\n",
    "    w = np.linalg.solve((x.T @ x + l2 * identity),(x.T @ y)).reshape(-1,1)\n",
    "    yhat = x @ w\n",
    "    e = y - yhat\n",
    "    MSE = ((e ** 2).sum())/(2*n)\n",
    "    return w, MSE"
   ]
  },
  {
   "cell_type": "code",
   "execution_count": 160,
   "id": "04ebb522",
   "metadata": {},
   "outputs": [
    {
     "name": "stdout",
     "output_type": "stream",
     "text": [
      "[[1]\n",
      " [2]\n",
      " [3]\n",
      " [4]]\n",
      "[[3]\n",
      " [5]\n",
      " [7]\n",
      " [9]]\n"
     ]
    },
    {
     "data": {
      "text/plain": [
       "array([[ 1,  1],\n",
       "       [ 2,  4],\n",
       "       [ 3,  9],\n",
       "       [ 4, 16]])"
      ]
     },
     "execution_count": 160,
     "metadata": {},
     "output_type": "execute_result"
    }
   ],
   "source": [
    "x = np.array([1, 2, 3, 4]).reshape(-1,1)\n",
    "y = np.array([3, 5, 7, 9]).reshape(-1,1)\n",
    "print(x)\n",
    "print(y)\n",
    "\n",
    "#polynomialGD(x, y, max_iterations=10)\n",
    "\n",
    "#normalized_x,normalized_y,min_value,max_value = minMaxScale(x, y)\n",
    "#minMaxDescale(normalized_x,normalized_y,min_value,max_value)\n",
    "\n",
    "addPolynomialColumns(x)"
   ]
  },
  {
   "cell_type": "code",
   "execution_count": null,
   "id": "eeca2f1c",
   "metadata": {},
   "outputs": [],
   "source": []
  }
 ],
 "metadata": {
  "kernelspec": {
   "display_name": "Python 3 (ipykernel)",
   "language": "python",
   "name": "python3"
  },
  "language_info": {
   "codemirror_mode": {
    "name": "ipython",
    "version": 3
   },
   "file_extension": ".py",
   "mimetype": "text/x-python",
   "name": "python",
   "nbconvert_exporter": "python",
   "pygments_lexer": "ipython3",
   "version": "3.10.6"
  }
 },
 "nbformat": 4,
 "nbformat_minor": 5
}
