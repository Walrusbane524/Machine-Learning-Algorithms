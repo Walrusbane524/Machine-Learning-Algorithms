{
 "cells": [
  {
   "cell_type": "code",
   "execution_count": null,
   "metadata": {},
   "outputs": [],
   "source": [
    "def kfold(data):\n",
    "    np.random.seed(1200)\n",
    "    folds = []\n",
    "    splits = 10\n",
    "    indices = np.random.permutation(data.shape[0])\n",
    "    folds_idx = np.array_split(indices, splits)\n",
    "        \n",
    "    for i in range(0, splits):\n",
    "        train_idx = np.concatenate(folds_idx[:i] + folds_idx[i+1:])\n",
    "        test_idx = folds_idx[i]\n",
    "        folds.append((train_idx, test_idx))\n",
    "    \n",
    "    return folds"
   ]
  }
 ],
 "metadata": {
  "language_info": {
   "name": "python"
  },
  "orig_nbformat": 4
 },
 "nbformat": 4,
 "nbformat_minor": 2
}
